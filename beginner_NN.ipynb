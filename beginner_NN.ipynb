{
 "cells": [
  {
   "cell_type": "code",
   "execution_count": 21,
   "id": "2277b6ac",
   "metadata": {},
   "outputs": [],
   "source": [
    "import torch\n",
    "import torch.nn as nn"
   ]
  },
  {
   "cell_type": "code",
   "execution_count": 22,
   "id": "0050bb26",
   "metadata": {},
   "outputs": [],
   "source": [
    "#define input and output layers\n",
    "class firstNeuralNetwork(nn.Module):\n",
    "    def __init__(self):\n",
    "        super().__init__()\n",
    "        # This model has no layers\n",
    "    def forward(self,x):\n",
    "        return x\n",
    "    #doesnot do forward propapagtion\n",
    "    "
   ]
  },
  {
   "cell_type": "code",
   "execution_count": 7,
   "id": "63c33038",
   "metadata": {},
   "outputs": [],
   "source": [
    "#define the model\n",
    "# creating your model object\n",
    "model = firstNeuralNetwork()"
   ]
  },
  {
   "cell_type": "code",
   "execution_count": 8,
   "id": "585c167a",
   "metadata": {},
   "outputs": [
    {
     "name": "stdout",
     "output_type": "stream",
     "text": [
      "firstNeuralNetwork()\n"
     ]
    }
   ],
   "source": [
    "\n",
    "print(model)"
   ]
  },
  {
   "cell_type": "code",
   "execution_count": 24,
   "id": "df9fcb6b",
   "metadata": {},
   "outputs": [
    {
     "name": "stdout",
     "output_type": "stream",
     "text": [
      "torch.Size([10, 5])\n",
      "torch.float32\n",
      "<built-in method size of Tensor object at 0x7fac25c5b880>\n",
      "tensor([[-0.1073, -0.5062,  0.7803,  1.2448, -0.0524],\n",
      "        [-0.2641,  1.8127, -0.5284,  0.6581, -0.3241],\n",
      "        [ 1.2093, -1.7364,  0.9000, -1.7362,  1.2088],\n",
      "        [-0.4740,  2.1311, -0.7420, -1.2711, -0.4354],\n",
      "        [ 1.2478, -0.5698, -0.3619,  0.2996,  0.5381],\n",
      "        [ 0.0839,  0.7248,  0.0523,  0.8430,  0.1183],\n",
      "        [ 0.6047,  2.2503,  0.4626, -0.2397,  0.6945],\n",
      "        [ 0.8742, -1.1833, -0.4156, -0.3262,  0.3995],\n",
      "        [-0.0209,  0.7138, -0.6352,  0.8820,  0.6549],\n",
      "        [-2.3602, -2.3418, -0.8072,  1.9783,  0.4985]])\n"
     ]
    }
   ],
   "source": [
    "#tensor data with 100 rows and 5 columns\n",
    "t = torch.randn(10, 5)\n",
    "print(t.shape)\n",
    "print(t.dtype)\n",
    "print(t.size)\n",
    "print(t)\n"
   ]
  },
  {
   "cell_type": "code",
   "execution_count": 25,
   "id": "ba564bbf",
   "metadata": {},
   "outputs": [
    {
     "name": "stdout",
     "output_type": "stream",
     "text": [
      "tensor([[-0.1073, -0.5062,  0.7803,  1.2448, -0.0524],\n",
      "        [-0.2641,  1.8127, -0.5284,  0.6581, -0.3241],\n",
      "        [ 1.2093, -1.7364,  0.9000, -1.7362,  1.2088],\n",
      "        [-0.4740,  2.1311, -0.7420, -1.2711, -0.4354],\n",
      "        [ 1.2478, -0.5698, -0.3619,  0.2996,  0.5381],\n",
      "        [ 0.0839,  0.7248,  0.0523,  0.8430,  0.1183],\n",
      "        [ 0.6047,  2.2503,  0.4626, -0.2397,  0.6945],\n",
      "        [ 0.8742, -1.1833, -0.4156, -0.3262,  0.3995],\n",
      "        [-0.0209,  0.7138, -0.6352,  0.8820,  0.6549],\n",
      "        [-2.3602, -2.3418, -0.8072,  1.9783,  0.4985]])\n"
     ]
    }
   ],
   "source": [
    "#pass the tensor data to the model\n",
    "print(model(t))"
   ]
  },
  {
   "cell_type": "code",
   "execution_count": 11,
   "id": "866a80bd",
   "metadata": {},
   "outputs": [
    {
     "name": "stdout",
     "output_type": "stream",
     "text": [
      "tensor([[-0.0747, -0.3688,  0.9659, -0.4063,  0.1968],\n",
      "        [-1.4978,  0.7340, -0.8227, -1.6951, -1.4528],\n",
      "        [-0.3080,  0.5014, -0.9325, -0.0522,  0.7317],\n",
      "        [-0.3406, -1.5538,  0.1305,  0.0844,  0.7142],\n",
      "        [-0.4699, -0.4154, -0.7419,  0.1930, -1.4290],\n",
      "        [-0.9178,  0.0076, -1.3301, -0.1555, -0.6332],\n",
      "        [ 1.6774, -0.2842, -1.8248, -0.5023,  0.6216],\n",
      "        [ 1.3678,  0.8395,  0.0491,  1.3597, -0.8733],\n",
      "        [-0.7917,  1.3721, -1.5254,  2.5420, -0.3379],\n",
      "        [ 0.3584, -0.8067, -1.0862, -2.5868,  0.4965]])\n"
     ]
    }
   ],
   "source": [
    "nn = model(t)\n",
    "print(nn)"
   ]
  },
  {
   "cell_type": "code",
   "execution_count": 15,
   "id": "85650585",
   "metadata": {},
   "outputs": [
    {
     "name": "stdout",
     "output_type": "stream",
     "text": [
      "<built-in method size of Tensor object at 0x7fac2668c220>\n"
     ]
    }
   ],
   "source": [
    "\n",
    "print(nn.size)"
   ]
  },
  {
   "cell_type": "code",
   "execution_count": 16,
   "id": "be646000",
   "metadata": {},
   "outputs": [
    {
     "name": "stdout",
     "output_type": "stream",
     "text": [
      "torch.Size([10, 5])\n"
     ]
    }
   ],
   "source": [
    "print(nn.shape)"
   ]
  },
  {
   "cell_type": "code",
   "execution_count": 33,
   "id": "9012cefb",
   "metadata": {},
   "outputs": [],
   "source": [
    "#create  layers to handle and process data\n",
    "class firstNeuralNetwork(nn.Module):\n",
    "    def __init__(self):\n",
    "        super().__init__()\n",
    "        #Applies a linear transformation to the incoming data: y=xAT+by=xAT+b\n",
    "        #nn.Linear(input_dimension,outout_dimension)\n",
    "        #binary outout\n",
    "        self.linear0 = nn.Linear(5,2)\n",
    "        \n",
    "    def forward(self,x):\n",
    "        x = self.linear0(x)\n",
    "        print(x.shape)\n",
    "        return x"
   ]
  },
  {
   "cell_type": "code",
   "execution_count": 34,
   "id": "1aad1850",
   "metadata": {},
   "outputs": [
    {
     "name": "stdout",
     "output_type": "stream",
     "text": [
      "torch.Size([10, 2])\n",
      "tensor([[-0.7261, -0.8761],\n",
      "        [-0.7690,  0.2447],\n",
      "        [-0.3245, -0.0120],\n",
      "        [-0.1393,  0.7865],\n",
      "        [-0.7020,  0.0954],\n",
      "        [-0.9058, -0.1204],\n",
      "        [-1.5245,  0.6703],\n",
      "        [-0.1604, -0.0195],\n",
      "        [-0.9042,  0.2021],\n",
      "        [ 0.4425, -1.3407]], grad_fn=<AddmmBackward0>)\n"
     ]
    }
   ],
   "source": [
    "model = firstNeuralNetwork()\n",
    "print(model(t))\n"
   ]
  },
  {
   "cell_type": "code",
   "execution_count": 50,
   "id": "fe04d48e",
   "metadata": {},
   "outputs": [],
   "source": [
    "class firstNeuralNeetwork(nn.Module):\n",
    "    def __init__(self):\n",
    "        super().__init__()\n",
    "        self.linear0 = nn.Linear(5,4)\n",
    "        self.linear1 = nn.Linear(4,2)\n",
    "    def forward(self,x):\n",
    "        x = self.linear0(x)\n",
    "        print(x.shape)\n",
    "        x = self.linear1(x)\n",
    "        print(x.shape)\n",
    "        return x"
   ]
  },
  {
   "cell_type": "code",
   "execution_count": 51,
   "id": "3157895d",
   "metadata": {},
   "outputs": [
    {
     "name": "stdout",
     "output_type": "stream",
     "text": [
      "torch.Size([10, 4])\n",
      "torch.Size([10, 2])\n"
     ]
    }
   ],
   "source": [
    "model = firstNeuralNeetwork()\n",
    "t = torch.randn(10, 5)\n",
    "n = model(t)"
   ]
  },
  {
   "cell_type": "markdown",
   "id": "0762f2f9",
   "metadata": {},
   "source": [
    "just changing columns size"
   ]
  },
  {
   "cell_type": "code",
   "execution_count": 58,
   "id": "72fe7c08",
   "metadata": {},
   "outputs": [],
   "source": [
    "#create versious hidden layers\n",
    "class firstNeuralNetwork(nn.Module):\n",
    "    def __init__(self):\n",
    "        super().__init__()\n",
    "        self.linear0 = nn.Linear(5,4)\n",
    "        self.linear1 = nn.Linear(4,3)\n",
    "        self.linear2 = nn.Linear(3,2)\n",
    "    def forward(self,x):\n",
    "        x = self.linear0(x)\n",
    "        print(x.shape)\n",
    "        x = self.linear1(x)\n",
    "        print(x.shape)\n",
    "        x = self.linear2(x)\n",
    "        print(x.shape)\n",
    "        return x"
   ]
  },
  {
   "cell_type": "code",
   "execution_count": 59,
   "id": "c9df2554",
   "metadata": {},
   "outputs": [
    {
     "name": "stdout",
     "output_type": "stream",
     "text": [
      "torch.Size([10, 4])\n",
      "torch.Size([10, 3])\n",
      "torch.Size([10, 2])\n"
     ]
    }
   ],
   "source": [
    "module = firstNeuralNetwork()\n",
    "t = torch.randn(10,5)\n",
    "n = module(t)"
   ]
  },
  {
   "cell_type": "code",
   "execution_count": 82,
   "id": "0d46f830",
   "metadata": {},
   "outputs": [
    {
     "name": "stdout",
     "output_type": "stream",
     "text": [
      "torch.Size([10, 100])\n",
      "torch.Size([10, 3])\n",
      "torch.Size([10, 2])\n"
     ]
    }
   ],
   "source": [
    "module = firstNeuralNetworkModel()\n",
    "t = torch.randn(10,5)\n",
    "n = module(t)"
   ]
  },
  {
   "cell_type": "code",
   "execution_count": 93,
   "id": "264c08e3",
   "metadata": {},
   "outputs": [],
   "source": [
    "#complex hidden layer\n",
    "class firstNeuralNetwork(nn.Module):\n",
    "    def __init__(self):\n",
    "        super().__init__()\n",
    "        self.linear0 = nn.Linear(5,4)\n",
    "        self.linear1 = nn.Linear(4,3)\n",
    "        self.linear2 = nn.Linear(4,2)\n",
    "    def forward(self,x):\n",
    "        x1 = self.linear0(x)\n",
    "        print(x1.shape)\n",
    "        x2 = self.linear1(x1)\n",
    "        print(x2.shape)\n",
    "        x3 = self.linear2(x1)\n",
    "        print(x3.shape)\n",
    "        return x"
   ]
  },
  {
   "cell_type": "code",
   "execution_count": 94,
   "id": "25662ebc",
   "metadata": {},
   "outputs": [
    {
     "name": "stdout",
     "output_type": "stream",
     "text": [
      "torch.Size([10, 4])\n",
      "torch.Size([10, 3])\n",
      "torch.Size([10, 2])\n"
     ]
    }
   ],
   "source": [
    "module = firstNeuralNetwork()\n",
    "t = torch.randn(10,5)\n",
    "n = module(t)"
   ]
  },
  {
   "cell_type": "code",
   "execution_count": 88,
   "id": "899ed404",
   "metadata": {},
   "outputs": [
    {
     "data": {
      "text/plain": [
       "torch.Size([10, 5])"
      ]
     },
     "execution_count": 88,
     "metadata": {},
     "output_type": "execute_result"
    }
   ],
   "source": [
    "t.shape"
   ]
  },
  {
   "cell_type": "code",
   "execution_count": 95,
   "id": "ad5f42c5",
   "metadata": {},
   "outputs": [
    {
     "data": {
      "text/html": [
       "<div>\n",
       "<style scoped>\n",
       "    .dataframe tbody tr th:only-of-type {\n",
       "        vertical-align: middle;\n",
       "    }\n",
       "\n",
       "    .dataframe tbody tr th {\n",
       "        vertical-align: top;\n",
       "    }\n",
       "\n",
       "    .dataframe thead th {\n",
       "        text-align: right;\n",
       "    }\n",
       "</style>\n",
       "<table border=\"1\" class=\"dataframe\">\n",
       "  <thead>\n",
       "    <tr style=\"text-align: right;\">\n",
       "      <th></th>\n",
       "      <th>age</th>\n",
       "      <th>sex</th>\n",
       "      <th>cp</th>\n",
       "      <th>trestbps</th>\n",
       "      <th>chol</th>\n",
       "      <th>fbs</th>\n",
       "      <th>restecg</th>\n",
       "      <th>thalach</th>\n",
       "      <th>exang</th>\n",
       "      <th>oldpeak</th>\n",
       "      <th>slope</th>\n",
       "      <th>ca</th>\n",
       "      <th>thal</th>\n",
       "      <th>target</th>\n",
       "    </tr>\n",
       "  </thead>\n",
       "  <tbody>\n",
       "    <tr>\n",
       "      <th>0</th>\n",
       "      <td>63</td>\n",
       "      <td>1</td>\n",
       "      <td>3</td>\n",
       "      <td>145</td>\n",
       "      <td>233</td>\n",
       "      <td>1</td>\n",
       "      <td>0</td>\n",
       "      <td>150</td>\n",
       "      <td>0</td>\n",
       "      <td>2.3</td>\n",
       "      <td>0</td>\n",
       "      <td>0</td>\n",
       "      <td>1</td>\n",
       "      <td>1</td>\n",
       "    </tr>\n",
       "    <tr>\n",
       "      <th>1</th>\n",
       "      <td>37</td>\n",
       "      <td>1</td>\n",
       "      <td>2</td>\n",
       "      <td>130</td>\n",
       "      <td>250</td>\n",
       "      <td>0</td>\n",
       "      <td>1</td>\n",
       "      <td>187</td>\n",
       "      <td>0</td>\n",
       "      <td>3.5</td>\n",
       "      <td>0</td>\n",
       "      <td>0</td>\n",
       "      <td>2</td>\n",
       "      <td>1</td>\n",
       "    </tr>\n",
       "    <tr>\n",
       "      <th>2</th>\n",
       "      <td>41</td>\n",
       "      <td>0</td>\n",
       "      <td>1</td>\n",
       "      <td>130</td>\n",
       "      <td>204</td>\n",
       "      <td>0</td>\n",
       "      <td>0</td>\n",
       "      <td>172</td>\n",
       "      <td>0</td>\n",
       "      <td>1.4</td>\n",
       "      <td>2</td>\n",
       "      <td>0</td>\n",
       "      <td>2</td>\n",
       "      <td>1</td>\n",
       "    </tr>\n",
       "    <tr>\n",
       "      <th>3</th>\n",
       "      <td>56</td>\n",
       "      <td>1</td>\n",
       "      <td>1</td>\n",
       "      <td>120</td>\n",
       "      <td>236</td>\n",
       "      <td>0</td>\n",
       "      <td>1</td>\n",
       "      <td>178</td>\n",
       "      <td>0</td>\n",
       "      <td>0.8</td>\n",
       "      <td>2</td>\n",
       "      <td>0</td>\n",
       "      <td>2</td>\n",
       "      <td>1</td>\n",
       "    </tr>\n",
       "    <tr>\n",
       "      <th>4</th>\n",
       "      <td>57</td>\n",
       "      <td>0</td>\n",
       "      <td>0</td>\n",
       "      <td>120</td>\n",
       "      <td>354</td>\n",
       "      <td>0</td>\n",
       "      <td>1</td>\n",
       "      <td>163</td>\n",
       "      <td>1</td>\n",
       "      <td>0.6</td>\n",
       "      <td>2</td>\n",
       "      <td>0</td>\n",
       "      <td>2</td>\n",
       "      <td>1</td>\n",
       "    </tr>\n",
       "  </tbody>\n",
       "</table>\n",
       "</div>"
      ],
      "text/plain": [
       "   age  sex  cp  trestbps  chol  fbs  restecg  thalach  exang  oldpeak  slope  \\\n",
       "0   63    1   3       145   233    1        0      150      0      2.3      0   \n",
       "1   37    1   2       130   250    0        1      187      0      3.5      0   \n",
       "2   41    0   1       130   204    0        0      172      0      1.4      2   \n",
       "3   56    1   1       120   236    0        1      178      0      0.8      2   \n",
       "4   57    0   0       120   354    0        1      163      1      0.6      2   \n",
       "\n",
       "   ca  thal  target  \n",
       "0   0     1       1  \n",
       "1   0     2       1  \n",
       "2   0     2       1  \n",
       "3   0     2       1  \n",
       "4   0     2       1  "
      ]
     },
     "execution_count": 95,
     "metadata": {},
     "output_type": "execute_result"
    }
   ],
   "source": [
    "import pandas as pd\n",
    "import numpy as np\n",
    "df = pd.read_csv('https://raw.githubusercontent.com/prodramp/publiccode/master/datasets/heart.csv')\n",
    "df.head()"
   ]
  },
  {
   "cell_type": "code",
   "execution_count": 104,
   "id": "65b577d4",
   "metadata": {},
   "outputs": [],
   "source": [
    "df_input = pd.DataFrame(df.iloc[:, 0:-1])\n",
    "df_target = pd.DataFrame(df.iloc[:,-1],columns=['target'])"
   ]
  },
  {
   "cell_type": "code",
   "execution_count": 105,
   "id": "fa591bf8",
   "metadata": {},
   "outputs": [
    {
     "data": {
      "text/html": [
       "<div>\n",
       "<style scoped>\n",
       "    .dataframe tbody tr th:only-of-type {\n",
       "        vertical-align: middle;\n",
       "    }\n",
       "\n",
       "    .dataframe tbody tr th {\n",
       "        vertical-align: top;\n",
       "    }\n",
       "\n",
       "    .dataframe thead th {\n",
       "        text-align: right;\n",
       "    }\n",
       "</style>\n",
       "<table border=\"1\" class=\"dataframe\">\n",
       "  <thead>\n",
       "    <tr style=\"text-align: right;\">\n",
       "      <th></th>\n",
       "      <th>age</th>\n",
       "      <th>sex</th>\n",
       "      <th>cp</th>\n",
       "      <th>trestbps</th>\n",
       "      <th>chol</th>\n",
       "      <th>fbs</th>\n",
       "      <th>restecg</th>\n",
       "      <th>thalach</th>\n",
       "      <th>exang</th>\n",
       "      <th>oldpeak</th>\n",
       "      <th>slope</th>\n",
       "      <th>ca</th>\n",
       "      <th>thal</th>\n",
       "    </tr>\n",
       "  </thead>\n",
       "  <tbody>\n",
       "    <tr>\n",
       "      <th>0</th>\n",
       "      <td>63</td>\n",
       "      <td>1</td>\n",
       "      <td>3</td>\n",
       "      <td>145</td>\n",
       "      <td>233</td>\n",
       "      <td>1</td>\n",
       "      <td>0</td>\n",
       "      <td>150</td>\n",
       "      <td>0</td>\n",
       "      <td>2.3</td>\n",
       "      <td>0</td>\n",
       "      <td>0</td>\n",
       "      <td>1</td>\n",
       "    </tr>\n",
       "    <tr>\n",
       "      <th>1</th>\n",
       "      <td>37</td>\n",
       "      <td>1</td>\n",
       "      <td>2</td>\n",
       "      <td>130</td>\n",
       "      <td>250</td>\n",
       "      <td>0</td>\n",
       "      <td>1</td>\n",
       "      <td>187</td>\n",
       "      <td>0</td>\n",
       "      <td>3.5</td>\n",
       "      <td>0</td>\n",
       "      <td>0</td>\n",
       "      <td>2</td>\n",
       "    </tr>\n",
       "    <tr>\n",
       "      <th>2</th>\n",
       "      <td>41</td>\n",
       "      <td>0</td>\n",
       "      <td>1</td>\n",
       "      <td>130</td>\n",
       "      <td>204</td>\n",
       "      <td>0</td>\n",
       "      <td>0</td>\n",
       "      <td>172</td>\n",
       "      <td>0</td>\n",
       "      <td>1.4</td>\n",
       "      <td>2</td>\n",
       "      <td>0</td>\n",
       "      <td>2</td>\n",
       "    </tr>\n",
       "    <tr>\n",
       "      <th>3</th>\n",
       "      <td>56</td>\n",
       "      <td>1</td>\n",
       "      <td>1</td>\n",
       "      <td>120</td>\n",
       "      <td>236</td>\n",
       "      <td>0</td>\n",
       "      <td>1</td>\n",
       "      <td>178</td>\n",
       "      <td>0</td>\n",
       "      <td>0.8</td>\n",
       "      <td>2</td>\n",
       "      <td>0</td>\n",
       "      <td>2</td>\n",
       "    </tr>\n",
       "    <tr>\n",
       "      <th>4</th>\n",
       "      <td>57</td>\n",
       "      <td>0</td>\n",
       "      <td>0</td>\n",
       "      <td>120</td>\n",
       "      <td>354</td>\n",
       "      <td>0</td>\n",
       "      <td>1</td>\n",
       "      <td>163</td>\n",
       "      <td>1</td>\n",
       "      <td>0.6</td>\n",
       "      <td>2</td>\n",
       "      <td>0</td>\n",
       "      <td>2</td>\n",
       "    </tr>\n",
       "  </tbody>\n",
       "</table>\n",
       "</div>"
      ],
      "text/plain": [
       "   age  sex  cp  trestbps  chol  fbs  restecg  thalach  exang  oldpeak  slope  \\\n",
       "0   63    1   3       145   233    1        0      150      0      2.3      0   \n",
       "1   37    1   2       130   250    0        1      187      0      3.5      0   \n",
       "2   41    0   1       130   204    0        0      172      0      1.4      2   \n",
       "3   56    1   1       120   236    0        1      178      0      0.8      2   \n",
       "4   57    0   0       120   354    0        1      163      1      0.6      2   \n",
       "\n",
       "   ca  thal  \n",
       "0   0     1  \n",
       "1   0     2  \n",
       "2   0     2  \n",
       "3   0     2  \n",
       "4   0     2  "
      ]
     },
     "execution_count": 105,
     "metadata": {},
     "output_type": "execute_result"
    }
   ],
   "source": [
    "df_input.head()"
   ]
  },
  {
   "cell_type": "code",
   "execution_count": 106,
   "id": "b0fdd9c5",
   "metadata": {},
   "outputs": [
    {
     "data": {
      "text/html": [
       "<div>\n",
       "<style scoped>\n",
       "    .dataframe tbody tr th:only-of-type {\n",
       "        vertical-align: middle;\n",
       "    }\n",
       "\n",
       "    .dataframe tbody tr th {\n",
       "        vertical-align: top;\n",
       "    }\n",
       "\n",
       "    .dataframe thead th {\n",
       "        text-align: right;\n",
       "    }\n",
       "</style>\n",
       "<table border=\"1\" class=\"dataframe\">\n",
       "  <thead>\n",
       "    <tr style=\"text-align: right;\">\n",
       "      <th></th>\n",
       "      <th>target</th>\n",
       "    </tr>\n",
       "  </thead>\n",
       "  <tbody>\n",
       "    <tr>\n",
       "      <th>0</th>\n",
       "      <td>1</td>\n",
       "    </tr>\n",
       "    <tr>\n",
       "      <th>1</th>\n",
       "      <td>1</td>\n",
       "    </tr>\n",
       "    <tr>\n",
       "      <th>2</th>\n",
       "      <td>1</td>\n",
       "    </tr>\n",
       "    <tr>\n",
       "      <th>3</th>\n",
       "      <td>1</td>\n",
       "    </tr>\n",
       "    <tr>\n",
       "      <th>4</th>\n",
       "      <td>1</td>\n",
       "    </tr>\n",
       "  </tbody>\n",
       "</table>\n",
       "</div>"
      ],
      "text/plain": [
       "   target\n",
       "0       1\n",
       "1       1\n",
       "2       1\n",
       "3       1\n",
       "4       1"
      ]
     },
     "execution_count": 106,
     "metadata": {},
     "output_type": "execute_result"
    }
   ],
   "source": [
    "df_target.head()"
   ]
  },
  {
   "cell_type": "code",
   "execution_count": 107,
   "id": "92aa5c22",
   "metadata": {},
   "outputs": [],
   "source": [
    "input_array = df_input.to_numpy()\n",
    "target_array = df_target.to_numpy()"
   ]
  },
  {
   "cell_type": "code",
   "execution_count": 108,
   "id": "67d2416b",
   "metadata": {},
   "outputs": [],
   "source": [
    "inputs = torch.from_numpy(np.array(input_array,dtype='float32'))\n",
    "targets = torch.from_numpy(np.array(target_array,dtype='float32'))"
   ]
  },
  {
   "cell_type": "code",
   "execution_count": 109,
   "id": "0e3f4868",
   "metadata": {},
   "outputs": [
    {
     "data": {
      "text/plain": [
       "torch.Size([303, 13])"
      ]
     },
     "execution_count": 109,
     "metadata": {},
     "output_type": "execute_result"
    }
   ],
   "source": [
    "inputs.shape"
   ]
  },
  {
   "cell_type": "code",
   "execution_count": 110,
   "id": "4111ae8c",
   "metadata": {},
   "outputs": [
    {
     "data": {
      "text/plain": [
       "torch.Size([303, 1])"
      ]
     },
     "execution_count": 110,
     "metadata": {},
     "output_type": "execute_result"
    }
   ],
   "source": [
    "targets.shape"
   ]
  },
  {
   "cell_type": "code",
   "execution_count": 116,
   "id": "b3fefbaf",
   "metadata": {},
   "outputs": [],
   "source": [
    "class Neural_network_dataDiesease(nn.Module):\n",
    "    def __init__(self):\n",
    "        super().__init__()\n",
    "        self.linear0 = nn.Linear(13,50)\n",
    "        self.linear1 = nn.Linear(50,9)\n",
    "        self.linear2 = nn.Linear(9,7)\n",
    "        self.linear3 = nn.Linear(7,2)\n",
    "    def forward(self,x):\n",
    "        x1 = self.linear0(x)\n",
    "        print(x1.shape)\n",
    "        x2 = self.linear1(x1)\n",
    "        print(x2.shape)\n",
    "        x3 = self.linear2(x2)\n",
    "        print(x3.shape)\n",
    "        x4 = self.linear3(x3)\n",
    "        print(x4.shape)\n",
    "        return x\n",
    "        "
   ]
  },
  {
   "cell_type": "code",
   "execution_count": 117,
   "id": "cb8c5c3e",
   "metadata": {},
   "outputs": [
    {
     "name": "stdout",
     "output_type": "stream",
     "text": [
      "torch.Size([303, 50])\n",
      "torch.Size([303, 9])\n",
      "torch.Size([303, 7])\n",
      "torch.Size([303, 2])\n"
     ]
    }
   ],
   "source": [
    "model = Neural_network_dataDiesease()\n",
    "n = model(inputs)"
   ]
  },
  {
   "cell_type": "code",
   "execution_count": null,
   "id": "90340809",
   "metadata": {},
   "outputs": [],
   "source": []
  }
 ],
 "metadata": {
  "kernelspec": {
   "display_name": "Python 3 (ipykernel)",
   "language": "python",
   "name": "python3"
  },
  "language_info": {
   "codemirror_mode": {
    "name": "ipython",
    "version": 3
   },
   "file_extension": ".py",
   "mimetype": "text/x-python",
   "name": "python",
   "nbconvert_exporter": "python",
   "pygments_lexer": "ipython3",
   "version": "3.10.9"
  }
 },
 "nbformat": 4,
 "nbformat_minor": 5
}

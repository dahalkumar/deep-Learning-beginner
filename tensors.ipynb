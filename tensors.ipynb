{
 "cells": [
  {
   "cell_type": "markdown",
   "id": "0d5070a7",
   "metadata": {},
   "source": [
    "# n-dimension array"
   ]
  },
  {
   "cell_type": "code",
   "execution_count": 1,
   "id": "339c1dc8",
   "metadata": {},
   "outputs": [],
   "source": [
    "import torch"
   ]
  },
  {
   "cell_type": "markdown",
   "id": "a49e4143",
   "metadata": {},
   "source": [
    "single dimension torch"
   ]
  },
  {
   "cell_type": "code",
   "execution_count": 3,
   "id": "1364a41c",
   "metadata": {},
   "outputs": [
    {
     "data": {
      "text/plain": [
       "tensor([1., 2., 3., 4., 5.])"
      ]
     },
     "execution_count": 3,
     "metadata": {},
     "output_type": "execute_result"
    }
   ],
   "source": [
    "torch.Tensor([1,2,3,4,5])"
   ]
  },
  {
   "cell_type": "markdown",
   "id": "0d53538e",
   "metadata": {},
   "source": [
    "2 dimenstion torch"
   ]
  },
  {
   "cell_type": "code",
   "execution_count": 5,
   "id": "1a46c9dc",
   "metadata": {},
   "outputs": [
    {
     "data": {
      "text/plain": [
       "tensor([[1., 2., 3., 4.],\n",
       "        [4., 5., 6., 7.]])"
      ]
     },
     "execution_count": 5,
     "metadata": {},
     "output_type": "execute_result"
    }
   ],
   "source": [
    "torch.Tensor([[1,2,3,4],[4,5,6,7]])"
   ]
  },
  {
   "cell_type": "code",
   "execution_count": 6,
   "id": "f886392f",
   "metadata": {},
   "outputs": [
    {
     "name": "stdout",
     "output_type": "stream",
     "text": [
      "tensor([1., 2., 3., 4., 5.])\n",
      "torch.Size([5])\n",
      "<class 'torch.Tensor'>\n",
      "torch.float32\n"
     ]
    }
   ],
   "source": [
    "t = torch.Tensor([1,2,3,4,5])\n",
    "print(t)\n",
    "print(t.shape)\n",
    "print(type(t))\n",
    "print(t.dtype)\n",
    "     "
   ]
  },
  {
   "cell_type": "code",
   "execution_count": 7,
   "id": "f66d21dd",
   "metadata": {},
   "outputs": [
    {
     "name": "stdout",
     "output_type": "stream",
     "text": [
      "tensor([[1., 2., 3., 4.],\n",
      "        [4., 5., 6., 7.]])\n",
      "torch.Size([2, 4])\n",
      "<class 'torch.Tensor'>\n",
      "torch.float32\n"
     ]
    }
   ],
   "source": [
    "t = torch.Tensor([[1,2,3,4],[4,5,6,7]])\n",
    "print(t)\n",
    "print(t.shape)\n",
    "print(type(t))\n",
    "print(t.dtype)\n",
    "     "
   ]
  },
  {
   "cell_type": "code",
   "execution_count": 11,
   "id": "8474c3dd",
   "metadata": {},
   "outputs": [
    {
     "name": "stdout",
     "output_type": "stream",
     "text": [
      "tensor([[[1., 2., 3., 4.],\n",
      "         [4., 5., 6., 7.]],\n",
      "\n",
      "        [[1., 2., 3., 4.],\n",
      "         [4., 5., 6., 7.]]])\n",
      "torch.Size([2, 2, 4])\n",
      "<class 'torch.Tensor'>\n",
      "torch.float32\n"
     ]
    }
   ],
   "source": [
    "t = torch.Tensor([[[1,2,3,4],[4,5,6,7]],[[1,2,3,4],[4,5,6,7]]])\n",
    "print(t)\n",
    "print(t.shape)\n",
    "print(type(t))\n",
    "print(t.dtype)\n",
    "     "
   ]
  },
  {
   "cell_type": "code",
   "execution_count": 12,
   "id": "deef56ef",
   "metadata": {},
   "outputs": [
    {
     "name": "stdout",
     "output_type": "stream",
     "text": [
      "tensor([[[1., 2., 3., 4.],\n",
      "         [4., 5., 6., 7.],\n",
      "         [4., 5., 6., 7.]],\n",
      "\n",
      "        [[1., 2., 3., 4.],\n",
      "         [4., 5., 6., 7.],\n",
      "         [4., 5., 6., 7.]]])\n",
      "torch.Size([2, 3, 4])\n",
      "<class 'torch.Tensor'>\n",
      "torch.float32\n"
     ]
    }
   ],
   "source": [
    "t = torch.Tensor([[[1,2,3,4],[4,5,6,7],[4,5,6,7]],[[1,2,3,4],[4,5,6,7],[4,5,6,7]]])\n",
    "print(t)\n",
    "print(t.shape)\n",
    "print(type(t))\n",
    "print(t.dtype)"
   ]
  },
  {
   "cell_type": "markdown",
   "id": "3c30faa8",
   "metadata": {},
   "source": [
    "# using torch zeros"
   ]
  },
  {
   "cell_type": "code",
   "execution_count": 16,
   "id": "1ec546e4",
   "metadata": {},
   "outputs": [
    {
     "data": {
      "text/plain": [
       "tensor([[0, 0, 0]], dtype=torch.int32)"
      ]
     },
     "execution_count": 16,
     "metadata": {},
     "output_type": "execute_result"
    }
   ],
   "source": [
    "t = torch.zeros(1,3,dtype=torch.int32)\n",
    "t"
   ]
  },
  {
   "cell_type": "code",
   "execution_count": 17,
   "id": "b4a743e2",
   "metadata": {},
   "outputs": [
    {
     "data": {
      "text/plain": [
       "tensor([[0., 0., 0.]])"
      ]
     },
     "execution_count": 17,
     "metadata": {},
     "output_type": "execute_result"
    }
   ],
   "source": [
    "t = torch.zeros(1,3,dtype=torch.float)\n",
    "t"
   ]
  },
  {
   "cell_type": "code",
   "execution_count": 18,
   "id": "a4b677b6",
   "metadata": {},
   "outputs": [
    {
     "data": {
      "text/plain": [
       "tensor([[[0, 0, 0, 0, 0, 0, 0, 0]],\n",
       "\n",
       "        [[0, 0, 0, 0, 0, 0, 0, 0]]], dtype=torch.int32)"
      ]
     },
     "execution_count": 18,
     "metadata": {},
     "output_type": "execute_result"
    }
   ],
   "source": [
    "t = torch.zeros(2,1,8,dtype=torch.int)\n",
    "t"
   ]
  },
  {
   "cell_type": "code",
   "execution_count": 19,
   "id": "350604b6",
   "metadata": {},
   "outputs": [
    {
     "data": {
      "text/plain": [
       "tensor([0, 0, 0, 0, 0], dtype=torch.int32)"
      ]
     },
     "execution_count": 19,
     "metadata": {},
     "output_type": "execute_result"
    }
   ],
   "source": [
    "t = torch.zeros(5,dtype=torch.int32)\n",
    "t"
   ]
  },
  {
   "cell_type": "code",
   "execution_count": 20,
   "id": "442af6ac",
   "metadata": {},
   "outputs": [
    {
     "data": {
      "text/plain": [
       "tensor([[0, 0, 0],\n",
       "        [0, 0, 0]], dtype=torch.int32)"
      ]
     },
     "execution_count": 20,
     "metadata": {},
     "output_type": "execute_result"
    }
   ],
   "source": [
    "t = torch.zeros(2,3,dtype=torch.int32)\n",
    "t"
   ]
  },
  {
   "cell_type": "markdown",
   "id": "d51902c2",
   "metadata": {},
   "source": [
    "# using torch ones"
   ]
  },
  {
   "cell_type": "code",
   "execution_count": 21,
   "id": "f629aafb",
   "metadata": {},
   "outputs": [
    {
     "data": {
      "text/plain": [
       "tensor([1, 1, 1, 1, 1], dtype=torch.int32)"
      ]
     },
     "execution_count": 21,
     "metadata": {},
     "output_type": "execute_result"
    }
   ],
   "source": [
    "t = torch.ones(5,dtype=torch.int32)\n",
    "t"
   ]
  },
  {
   "cell_type": "code",
   "execution_count": 27,
   "id": "f642a8e0",
   "metadata": {},
   "outputs": [
    {
     "data": {
      "text/plain": [
       "tensor([[1],\n",
       "        [1],\n",
       "        [1],\n",
       "        [1],\n",
       "        [1]], dtype=torch.int32)"
      ]
     },
     "execution_count": 27,
     "metadata": {},
     "output_type": "execute_result"
    }
   ],
   "source": [
    "t = torch.ones(5,1,dtype=torch.int32)\n",
    "t"
   ]
  },
  {
   "cell_type": "code",
   "execution_count": 28,
   "id": "e93b49a9",
   "metadata": {},
   "outputs": [
    {
     "data": {
      "text/plain": [
       "tensor([[1, 1, 1],\n",
       "        [1, 1, 1],\n",
       "        [1, 1, 1],\n",
       "        [1, 1, 1],\n",
       "        [1, 1, 1]], dtype=torch.int32)"
      ]
     },
     "execution_count": 28,
     "metadata": {},
     "output_type": "execute_result"
    }
   ],
   "source": [
    "t = torch.ones(5,3,dtype=torch.int32)\n",
    "t"
   ]
  },
  {
   "cell_type": "code",
   "execution_count": 29,
   "id": "74291c66",
   "metadata": {},
   "outputs": [
    {
     "data": {
      "text/plain": [
       "tensor([[[1],\n",
       "         [1],\n",
       "         [1],\n",
       "         [1],\n",
       "         [1]],\n",
       "\n",
       "        [[1],\n",
       "         [1],\n",
       "         [1],\n",
       "         [1],\n",
       "         [1]]], dtype=torch.int32)"
      ]
     },
     "execution_count": 29,
     "metadata": {},
     "output_type": "execute_result"
    }
   ],
   "source": [
    "t = torch.ones(2,5,1,dtype=torch.int32)\n",
    "t"
   ]
  },
  {
   "cell_type": "code",
   "execution_count": 30,
   "id": "414d30ec",
   "metadata": {},
   "outputs": [
    {
     "data": {
      "text/plain": [
       "tensor([[1, 1, 1],\n",
       "        [1, 1, 1],\n",
       "        [1, 1, 1]], dtype=torch.int32)"
      ]
     },
     "execution_count": 30,
     "metadata": {},
     "output_type": "execute_result"
    }
   ],
   "source": [
    "t = torch.ones(3,3,dtype=torch.int32)\n",
    "t"
   ]
  },
  {
   "cell_type": "code",
   "execution_count": 32,
   "id": "d081444a",
   "metadata": {},
   "outputs": [
    {
     "data": {
      "text/plain": [
       "tensor([[[1, 1],\n",
       "         [1, 1],\n",
       "         [1, 1],\n",
       "         [1, 1],\n",
       "         [1, 1]],\n",
       "\n",
       "        [[1, 1],\n",
       "         [1, 1],\n",
       "         [1, 1],\n",
       "         [1, 1],\n",
       "         [1, 1]],\n",
       "\n",
       "        [[1, 1],\n",
       "         [1, 1],\n",
       "         [1, 1],\n",
       "         [1, 1],\n",
       "         [1, 1]]], dtype=torch.int32)"
      ]
     },
     "execution_count": 32,
     "metadata": {},
     "output_type": "execute_result"
    }
   ],
   "source": [
    "t = torch.ones(3,5,2,dtype=torch.int32)\n",
    "t"
   ]
  },
  {
   "cell_type": "code",
   "execution_count": 33,
   "id": "93d9d6f5",
   "metadata": {},
   "outputs": [
    {
     "data": {
      "text/plain": [
       "tensor([[[0., 0., 0.],\n",
       "         [0., 0., 0.],\n",
       "         [0., 0., 0.],\n",
       "         [0., 0., 0.],\n",
       "         [0., 0., 0.]],\n",
       "\n",
       "        [[0., 0., 0.],\n",
       "         [0., 0., 0.],\n",
       "         [0., 0., 0.],\n",
       "         [0., 0., 0.],\n",
       "         [0., 0., 0.]],\n",
       "\n",
       "        [[0., 0., 0.],\n",
       "         [0., 0., 0.],\n",
       "         [0., 0., 0.],\n",
       "         [0., 0., 0.],\n",
       "         [0., 0., 0.]],\n",
       "\n",
       "        [[0., 0., 0.],\n",
       "         [0., 0., 0.],\n",
       "         [0., 0., 0.],\n",
       "         [0., 0., 0.],\n",
       "         [0., 0., 0.]],\n",
       "\n",
       "        [[0., 0., 0.],\n",
       "         [0., 0., 0.],\n",
       "         [0., 0., 0.],\n",
       "         [0., 0., 0.],\n",
       "         [0., 0., 0.]]])"
      ]
     },
     "execution_count": 33,
     "metadata": {},
     "output_type": "execute_result"
    }
   ],
   "source": [
    "#create 5 different section with 5 rows and 3 columns of zeros\n",
    "t = torch.zeros(5,5,3,dtype=torch.float)\n",
    "t"
   ]
  },
  {
   "cell_type": "code",
   "execution_count": 34,
   "id": "de538137",
   "metadata": {},
   "outputs": [
    {
     "data": {
      "text/plain": [
       "tensor([[0., 0., 0.],\n",
       "        [0., 0., 0.],\n",
       "        [0., 0., 0.],\n",
       "        [0., 0., 0.],\n",
       "        [0., 0., 0.]])"
      ]
     },
     "execution_count": 34,
     "metadata": {},
     "output_type": "execute_result"
    }
   ],
   "source": [
    "t[0]"
   ]
  },
  {
   "cell_type": "code",
   "execution_count": 35,
   "id": "dbc5844f",
   "metadata": {},
   "outputs": [
    {
     "data": {
      "text/plain": [
       "tensor([0., 0., 0.])"
      ]
     },
     "execution_count": 35,
     "metadata": {},
     "output_type": "execute_result"
    }
   ],
   "source": [
    "t[0][0]"
   ]
  },
  {
   "cell_type": "markdown",
   "id": "c7054dae",
   "metadata": {},
   "source": [
    "# using randn"
   ]
  },
  {
   "cell_type": "code",
   "execution_count": 39,
   "id": "26ab805e",
   "metadata": {},
   "outputs": [
    {
     "data": {
      "text/plain": [
       "tensor([[-0.2137, -2.1477, -1.0745,  0.2168, -0.0739, -1.1044,  0.4381, -0.2959],\n",
       "        [ 1.0053, -0.4011, -0.7459, -0.4087,  0.9665, -1.0964,  1.2508, -1.0118]])"
      ]
     },
     "execution_count": 39,
     "metadata": {},
     "output_type": "execute_result"
    }
   ],
   "source": [
    "torch.randn(2,8)"
   ]
  },
  {
   "cell_type": "markdown",
   "id": "c3215cc4",
   "metadata": {},
   "source": [
    "# using zero_like"
   ]
  },
  {
   "cell_type": "code",
   "execution_count": 41,
   "id": "e88a9665",
   "metadata": {},
   "outputs": [
    {
     "name": "stdout",
     "output_type": "stream",
     "text": [
      "tensor([[0., 0., 0., 0., 0., 0., 0., 0.],\n",
      "        [0., 0., 0., 0., 0., 0., 0., 0.]])\n",
      "torch.float32\n"
     ]
    }
   ],
   "source": [
    "t = torch.randn(2,8)\n",
    "t_zeros = torch.zeros_like(t)\n",
    "print(t_zeros)\n",
    "print(t_zeros.dtype)"
   ]
  },
  {
   "cell_type": "code",
   "execution_count": 43,
   "id": "67121af8",
   "metadata": {},
   "outputs": [
    {
     "name": "stdout",
     "output_type": "stream",
     "text": [
      "tensor([[[ 1.2831,  0.9819],\n",
      "         [-0.3122, -0.9528],\n",
      "         [ 0.8686, -0.9155],\n",
      "         [ 1.5269,  0.9751]],\n",
      "\n",
      "        [[-1.7300, -0.4142],\n",
      "         [ 0.1657,  0.3069],\n",
      "         [-0.1560, -1.6249],\n",
      "         [ 0.3450,  0.5324]]])\n"
     ]
    }
   ],
   "source": [
    "t = torch.ones(2,4,2,dtype = torch.float)\n",
    "randn_ones = torch.randn_like(t)\n",
    "print(randn_ones)"
   ]
  },
  {
   "cell_type": "markdown",
   "id": "6de6a365",
   "metadata": {},
   "source": [
    "# converting tensor to numpy array"
   ]
  },
  {
   "cell_type": "code",
   "execution_count": 45,
   "id": "02819137",
   "metadata": {},
   "outputs": [
    {
     "data": {
      "text/plain": [
       "array([[[1., 1.],\n",
       "        [1., 1.],\n",
       "        [1., 1.],\n",
       "        [1., 1.]],\n",
       "\n",
       "       [[1., 1.],\n",
       "        [1., 1.],\n",
       "        [1., 1.],\n",
       "        [1., 1.]]], dtype=float32)"
      ]
     },
     "execution_count": 45,
     "metadata": {},
     "output_type": "execute_result"
    }
   ],
   "source": [
    "t = torch.ones(2,4,2,dtype = torch.float)\n",
    "new_t = t.numpy()\n",
    "new_t"
   ]
  },
  {
   "cell_type": "code",
   "execution_count": 47,
   "id": "6991f1bd",
   "metadata": {},
   "outputs": [
    {
     "name": "stdout",
     "output_type": "stream",
     "text": [
      "<class 'numpy.ndarray'>\n",
      "float32\n"
     ]
    }
   ],
   "source": [
    "print(type(new_t))\n",
    "print(new_t.dtype)"
   ]
  },
  {
   "cell_type": "markdown",
   "id": "d3d1707e",
   "metadata": {},
   "source": [
    "# Tensor operation <br/>  Muliplication"
   ]
  },
  {
   "cell_type": "code",
   "execution_count": 63,
   "id": "0fb3f5ff",
   "metadata": {},
   "outputs": [
    {
     "name": "stdout",
     "output_type": "stream",
     "text": [
      "tensor([[ 2.5635,  1.4991, -2.2707,  1.7203],\n",
      "        [-1.6274,  0.5256,  1.1328, -0.9982],\n",
      "        [-2.7853, -0.0488,  2.1370, -1.7687]])\n",
      "<class 'torch.Tensor'>\n",
      "torch.float32\n"
     ]
    }
   ],
   "source": [
    "a = torch.randn(3,2)\n",
    "b = torch.randn(2,4)\n",
    "result = a.mm(b)\n",
    "print(result)\n",
    "print(type(result))\n",
    "print(result.dtype)"
   ]
  },
  {
   "cell_type": "markdown",
   "id": "2ee31bf5",
   "metadata": {},
   "source": [
    "# Transpose"
   ]
  },
  {
   "cell_type": "code",
   "execution_count": 65,
   "id": "4129b497",
   "metadata": {},
   "outputs": [
    {
     "name": "stdout",
     "output_type": "stream",
     "text": [
      "torch.Size([3, 4])\n",
      "torch.Size([4, 3])\n"
     ]
    }
   ],
   "source": [
    "print(result.shape)\n",
    "nn  = result.T\n",
    "print(nn.shape)"
   ]
  },
  {
   "cell_type": "markdown",
   "id": "25a15f3d",
   "metadata": {},
   "source": [
    "# Arithmetic operation"
   ]
  },
  {
   "cell_type": "code",
   "execution_count": 67,
   "id": "4bb94a20",
   "metadata": {},
   "outputs": [
    {
     "name": "stdout",
     "output_type": "stream",
     "text": [
      "tensor([[6., 6., 6., 6., 6.]])\n"
     ]
    }
   ],
   "source": [
    "#   +\n",
    "a = torch.ones(1,5)\n",
    "result = a+5\n",
    "print(result)"
   ]
  },
  {
   "cell_type": "code",
   "execution_count": 68,
   "id": "4746ec6a",
   "metadata": {},
   "outputs": [
    {
     "name": "stdout",
     "output_type": "stream",
     "text": [
      "tensor([[6., 6., 6., 6., 6.],\n",
      "        [6., 6., 6., 6., 6.]])\n"
     ]
    }
   ],
   "source": [
    "#   +\n",
    "a = torch.ones(2,5)\n",
    "result = a+5\n",
    "print(result)"
   ]
  },
  {
   "cell_type": "code",
   "execution_count": 71,
   "id": "cc4b9cbb",
   "metadata": {},
   "outputs": [
    {
     "name": "stdout",
     "output_type": "stream",
     "text": [
      "tensor([[[3., 3., 3., 3., 3.],\n",
      "         [3., 3., 3., 3., 3.]],\n",
      "\n",
      "        [[3., 3., 3., 3., 3.],\n",
      "         [3., 3., 3., 3., 3.]]])\n"
     ]
    }
   ],
   "source": [
    "#   +\n",
    "a = torch.zeros(2,2,5)\n",
    "result = a+3\n",
    "print(result)"
   ]
  },
  {
   "cell_type": "code",
   "execution_count": 73,
   "id": "4b2328d3",
   "metadata": {},
   "outputs": [
    {
     "name": "stdout",
     "output_type": "stream",
     "text": [
      "tensor([[1., 1., 1., 1., 1.]])\n",
      "tensor([[1.5000, 1.5000, 1.5000, 1.5000, 1.5000]])\n"
     ]
    }
   ],
   "source": [
    "#   x\n",
    "a = torch.ones(1,5)\n",
    "print(a)\n",
    "result = a * 1.5\n",
    "print(result)"
   ]
  },
  {
   "cell_type": "code",
   "execution_count": 75,
   "id": "2aaedd04",
   "metadata": {},
   "outputs": [
    {
     "name": "stdout",
     "output_type": "stream",
     "text": [
      "tensor([[ 1.6761,  1.4341, -0.0360, -0.8877,  1.6057]])\n",
      "tensor([[ 3.3523,  2.8682, -0.0721, -1.7755,  3.2114]])\n"
     ]
    }
   ],
   "source": [
    "#   /\n",
    "a = torch.randn(1,5)\n",
    "print(a)\n",
    "result = a / 0.5\n",
    "print(result)"
   ]
  },
  {
   "cell_type": "code",
   "execution_count": 76,
   "id": "53c230fc",
   "metadata": {},
   "outputs": [
    {
     "name": "stdout",
     "output_type": "stream",
     "text": [
      "tensor([[ 1.8162,  0.5454, -0.8737, -0.0584,  0.6366]])\n",
      "tensor([[ 1.3162,  0.0454, -1.3737, -0.5584,  0.1366]])\n"
     ]
    }
   ],
   "source": [
    "#   -\n",
    "a = torch.randn(1,5)\n",
    "print(a)\n",
    "result = a - 0.5\n",
    "print(result)"
   ]
  },
  {
   "cell_type": "markdown",
   "id": "8dc83dc3",
   "metadata": {},
   "source": [
    "# square root"
   ]
  },
  {
   "cell_type": "code",
   "execution_count": 79,
   "id": "c48ff15d",
   "metadata": {},
   "outputs": [
    {
     "name": "stdout",
     "output_type": "stream",
     "text": [
      "tensor([[ 0.5291,  1.0529,  0.1603, -1.0637]])\n",
      "tensor([[0.2800, 1.1087, 0.0257, 1.1314]])\n",
      "<class 'torch.Tensor'>\n",
      "torch.Size([1, 4])\n",
      "torch.Size([1, 4])\n",
      "torch.float32\n"
     ]
    }
   ],
   "source": [
    "a = torch.randn(1,4)\n",
    "print(a)\n",
    "t = a**2\n",
    "print(t)\n",
    "print(type(t))\n",
    "print(t.shape)\n",
    "print(t.size())\n",
    "print(t.dtype)"
   ]
  },
  {
   "cell_type": "markdown",
   "id": "64b80d3a",
   "metadata": {},
   "source": [
    "# aggregation"
   ]
  },
  {
   "cell_type": "code",
   "execution_count": 82,
   "id": "c4abaa28",
   "metadata": {},
   "outputs": [
    {
     "name": "stdout",
     "output_type": "stream",
     "text": [
      "tensor([[0.4915, 0.0980],\n",
      "        [0.9416, 0.4720],\n",
      "        [0.9126, 0.9448]])\n",
      "3.860412120819092 <class 'float'>\n"
     ]
    }
   ],
   "source": [
    "n = torch.rand(3,2)\n",
    "print(n)\n",
    "agg = n.sum()\n",
    "agg_item  = agg.item()\n",
    "print(agg_item, type(agg_item))"
   ]
  },
  {
   "cell_type": "markdown",
   "id": "c5c1f266",
   "metadata": {},
   "source": [
    "# in place operators"
   ]
  },
  {
   "cell_type": "code",
   "execution_count": 84,
   "id": "b27c1fd4",
   "metadata": {},
   "outputs": [
    {
     "name": "stdout",
     "output_type": "stream",
     "text": [
      "tensor([[0.0628, 0.7607],\n",
      "        [0.6215, 0.1980]]) \n",
      "\n",
      "tensor([[0.3139, 3.8035],\n",
      "        [3.1077, 0.9898]])\n"
     ]
    }
   ],
   "source": [
    "\n",
    "tensor = torch.rand(2,2)\n",
    "print(f\"{tensor} \\n\")\n",
    "\n",
    "tensor.mul_(5)\n",
    "print(tensor)"
   ]
  },
  {
   "cell_type": "code",
   "execution_count": 86,
   "id": "4491de61",
   "metadata": {},
   "outputs": [
    {
     "name": "stdout",
     "output_type": "stream",
     "text": [
      "tensor([[0.6036, 0.3889],\n",
      "        [0.2631, 0.1775]]) \n",
      "\n",
      "tensor([[2.6036, 2.3889],\n",
      "        [2.2631, 2.1775]])\n"
     ]
    }
   ],
   "source": [
    "tensor = torch.rand(2,2)\n",
    "print(f\"{tensor} \\n\")\n",
    "tensor.add_(2)\n",
    "print(tensor)"
   ]
  },
  {
   "cell_type": "code",
   "execution_count": 87,
   "id": "a89dee9d",
   "metadata": {},
   "outputs": [
    {
     "name": "stdout",
     "output_type": "stream",
     "text": [
      "tensor([[0.1349, 0.3014],\n",
      "        [0.5395, 0.8816]]) \n",
      "\n",
      "tensor([[-0.3651, -0.1986],\n",
      "        [ 0.0395,  0.3816]])\n"
     ]
    }
   ],
   "source": [
    "tensor = torch.rand(2,2)\n",
    "print(f\"{tensor} \\n\")\n",
    "tensor.sub_(0.5)\n",
    "print(tensor)"
   ]
  },
  {
   "cell_type": "code",
   "execution_count": 88,
   "id": "6e2ce4b3",
   "metadata": {},
   "outputs": [
    {
     "name": "stdout",
     "output_type": "stream",
     "text": [
      "tensor([[0.3638, 0.6401],\n",
      "        [0.8237, 0.6210]]) \n",
      "\n",
      "tensor([[1.2128, 2.1336],\n",
      "        [2.7457, 2.0701]])\n"
     ]
    }
   ],
   "source": [
    "tensor = torch.rand(2,2)\n",
    "print(f\"{tensor} \\n\")\n",
    "tensor.div_(0.3)\n",
    "print(tensor)"
   ]
  },
  {
   "cell_type": "markdown",
   "id": "952d668f",
   "metadata": {},
   "source": [
    "# Logical Operation"
   ]
  },
  {
   "cell_type": "code",
   "execution_count": 89,
   "id": "9b8a814d",
   "metadata": {},
   "outputs": [
    {
     "name": "stdout",
     "output_type": "stream",
     "text": [
      "tensor([[1., 2., 3.],\n",
      "        [4., 5., 6.]])\n",
      "tensor([[False, False, False],\n",
      "        [False,  True,  True]])\n",
      "<class 'torch.Tensor'>\n",
      "torch.Size([2, 3])\n",
      "torch.Size([2, 3])\n",
      "torch.bool\n"
     ]
    }
   ],
   "source": [
    "A = torch.Tensor([[1,2,3], [4,5,6]])\n",
    "print(A)\n",
    "t = A >=5 \n",
    "print(t)\n",
    "print(type(t))\n",
    "print(t.shape)\n",
    "print(t.size())\n",
    "print(t.dtype)"
   ]
  },
  {
   "cell_type": "markdown",
   "id": "1ff3940e",
   "metadata": {},
   "source": [
    "# indexing and slicing"
   ]
  },
  {
   "cell_type": "code",
   "execution_count": 92,
   "id": "ac54ef2b",
   "metadata": {},
   "outputs": [
    {
     "name": "stdout",
     "output_type": "stream",
     "text": [
      "Full Tensor:\n",
      " tensor([[0.7114, 0.9239, 0.7493, 0.3020],\n",
      "        [0.7567, 0.5788, 0.0036, 0.0816],\n",
      "        [0.4148, 0.5402, 0.2348, 0.5726],\n",
      "        [0.6661, 0.2076, 0.1152, 0.2482]])\n",
      "First row: tensor([0.7114, 0.9239, 0.7493, 0.3020])\n",
      "First column: tensor([0.7114, 0.7567, 0.4148, 0.6661])\n",
      "Second column: tensor([0.9239, 0.5788, 0.5402, 0.2076])\n",
      "Last column: tensor([0.3020, 0.0816, 0.5726, 0.2482])\n"
     ]
    }
   ],
   "source": [
    "#tensor = torch.ones(4, 4)\n",
    "tensor = torch.rand(4, 4)\n",
    "print(f\"Full Tensor:\\n {tensor}\")\n",
    "print(f\"First row: {tensor[0]}\")\n",
    "print(f\"First column: {tensor[:, 0]}\")\n",
    "print(f\"Second column: {tensor[:, 1]}\")\n",
    "print(f\"Last column: {tensor[..., -1]}\")\n"
   ]
  },
  {
   "cell_type": "code",
   "execution_count": 93,
   "id": "25a11c00",
   "metadata": {},
   "outputs": [
    {
     "data": {
      "text/plain": [
       "tensor([[0.7493, 0.3020],\n",
       "        [0.0036, 0.0816],\n",
       "        [0.2348, 0.5726],\n",
       "        [0.1152, 0.2482]])"
      ]
     },
     "execution_count": 93,
     "metadata": {},
     "output_type": "execute_result"
    }
   ],
   "source": [
    "# all rows and  starting  take last 2 columns \n",
    "tensor[:,2:]"
   ]
  },
  {
   "cell_type": "markdown",
   "id": "15051480",
   "metadata": {},
   "source": [
    "# Tensor Reshape Operation"
   ]
  },
  {
   "cell_type": "code",
   "execution_count": 94,
   "id": "a66fdf4d",
   "metadata": {},
   "outputs": [
    {
     "name": "stdout",
     "output_type": "stream",
     "text": [
      "tensor([[1, 2],\n",
      "        [3, 4],\n",
      "        [5, 6]])\n"
     ]
    }
   ],
   "source": [
    "t = torch.tensor([[1, 2], [3, 4], [5, 6]])\n",
    "print(t)"
   ]
  },
  {
   "cell_type": "code",
   "execution_count": 95,
   "id": "c616cbd3",
   "metadata": {},
   "outputs": [
    {
     "name": "stdout",
     "output_type": "stream",
     "text": [
      "torch.Size([3, 2])\n"
     ]
    }
   ],
   "source": [
    "print(t.shape)"
   ]
  },
  {
   "cell_type": "code",
   "execution_count": 96,
   "id": "e55df2e6",
   "metadata": {},
   "outputs": [
    {
     "name": "stdout",
     "output_type": "stream",
     "text": [
      "tensor([[1, 2, 3],\n",
      "        [4, 5, 6]])\n"
     ]
    }
   ],
   "source": [
    "#reshape 2 rows and 3 columns\n",
    "print(t.view(2, 3))"
   ]
  },
  {
   "cell_type": "code",
   "execution_count": 100,
   "id": "a0e3300c",
   "metadata": {},
   "outputs": [
    {
     "name": "stdout",
     "output_type": "stream",
     "text": [
      "tensor([[1, 2, 3],\n",
      "        [4, 5, 6]])\n"
     ]
    }
   ],
   "source": [
    "#reshape -1 any number \n",
    "print(t.view(-1,3))"
   ]
  },
  {
   "cell_type": "code",
   "execution_count": 102,
   "id": "dd8963ac",
   "metadata": {},
   "outputs": [
    {
     "name": "stdout",
     "output_type": "stream",
     "text": [
      "tensor([[1, 2],\n",
      "        [3, 4],\n",
      "        [5, 6]])\n"
     ]
    }
   ],
   "source": [
    "print(t.view(3,-1))"
   ]
  },
  {
   "cell_type": "code",
   "execution_count": 108,
   "id": "d24928b5",
   "metadata": {},
   "outputs": [
    {
     "name": "stdout",
     "output_type": "stream",
     "text": [
      "tensor([[1, 2, 3],\n",
      "        [4, 5, 6]])\n"
     ]
    }
   ],
   "source": [
    "print(t.view(2,3))"
   ]
  },
  {
   "cell_type": "code",
   "execution_count": 109,
   "id": "b9cffa45",
   "metadata": {},
   "outputs": [
    {
     "name": "stdout",
     "output_type": "stream",
     "text": [
      "tensor([[1, 2],\n",
      "        [3, 4],\n",
      "        [5, 6]])\n"
     ]
    }
   ],
   "source": [
    "print(t.view(-1,2))"
   ]
  },
  {
   "cell_type": "code",
   "execution_count": 110,
   "id": "fdecc6ca",
   "metadata": {},
   "outputs": [
    {
     "name": "stdout",
     "output_type": "stream",
     "text": [
      "tensor([[1],\n",
      "        [2],\n",
      "        [3],\n",
      "        [4],\n",
      "        [5],\n",
      "        [6]])\n"
     ]
    }
   ],
   "source": [
    "print(t.view(6,-1))"
   ]
  },
  {
   "cell_type": "code",
   "execution_count": 111,
   "id": "a14d7cc3",
   "metadata": {},
   "outputs": [
    {
     "name": "stdout",
     "output_type": "stream",
     "text": [
      "tensor([[1, 2, 3, 4, 5, 6]])\n"
     ]
    }
   ],
   "source": [
    "print(t.view(-1,6))"
   ]
  },
  {
   "cell_type": "markdown",
   "id": "ad5e559d",
   "metadata": {},
   "source": [
    "# Tensor Concatnation:"
   ]
  },
  {
   "cell_type": "code",
   "execution_count": 118,
   "id": "8d3a69cb",
   "metadata": {},
   "outputs": [
    {
     "name": "stdout",
     "output_type": "stream",
     "text": [
      "tensor([[1.0000, 1.0000],\n",
      "        [1.0000, 1.0000],\n",
      "        [1.0000, 1.0000],\n",
      "        [1.0000, 1.0000],\n",
      "        [0.8647, 0.7245],\n",
      "        [0.9808, 0.2153]])\n",
      "torch.Size([6, 2]) \n",
      "\n",
      "tensor([[1.0000, 1.0000, 1.0000, 1.0000, 0.8647, 0.7245],\n",
      "        [1.0000, 1.0000, 1.0000, 1.0000, 0.9808, 0.2153]])\n",
      "torch.Size([2, 6])\n"
     ]
    }
   ],
   "source": [
    "t = torch.ones(2,2,)\n",
    "t0 = torch.rand(2,2)\n",
    "\n",
    "\n",
    "\n",
    "t1 = torch.cat([t, t, t0])\n",
    "t2 = torch.cat([t, t, t0], dim=1)\n",
    "print(t1)\n",
    "print(t1.shape,\"\\n\")\n",
    "print(t2)\n",
    "print(t2.shape)"
   ]
  },
  {
   "cell_type": "markdown",
   "id": "5db67a09",
   "metadata": {},
   "source": [
    "# Device for tensors"
   ]
  },
  {
   "cell_type": "code",
   "execution_count": 120,
   "id": "e7661f11",
   "metadata": {},
   "outputs": [
    {
     "name": "stdout",
     "output_type": "stream",
     "text": [
      "tensor([[1., 1., 1.],\n",
      "        [1., 1., 1.]])\n",
      "Device tensor is stored on: cpu\n"
     ]
    }
   ],
   "source": [
    "shape = (2,3)\n",
    "t = torch.ones(shape)\n",
    "print(t)\n",
    "print(f\"Device tensor is stored on: {t.device}\")"
   ]
  },
  {
   "cell_type": "markdown",
   "id": "ec279bcb",
   "metadata": {},
   "source": [
    "# Cuda for torch"
   ]
  },
  {
   "cell_type": "code",
   "execution_count": 121,
   "id": "a3a14dd9",
   "metadata": {},
   "outputs": [
    {
     "name": "stdout",
     "output_type": "stream",
     "text": [
      "1\n"
     ]
    }
   ],
   "source": [
    "if torch.cuda.is_available():\n",
    "    print(torch.cuda.device_count())"
   ]
  },
  {
   "cell_type": "code",
   "execution_count": 122,
   "id": "d52f2d6d",
   "metadata": {},
   "outputs": [
    {
     "data": {
      "text/plain": [
       "'NVIDIA GeForce RTX 3060 Laptop GPU'"
      ]
     },
     "execution_count": 122,
     "metadata": {},
     "output_type": "execute_result"
    }
   ],
   "source": [
    "torch.cuda.get_device_name(0)"
   ]
  },
  {
   "cell_type": "code",
   "execution_count": 123,
   "id": "11673583",
   "metadata": {},
   "outputs": [
    {
     "name": "stdout",
     "output_type": "stream",
     "text": [
      "1\n"
     ]
    }
   ],
   "source": [
    "print(torch.cuda.device_count())"
   ]
  },
  {
   "cell_type": "code",
   "execution_count": 124,
   "id": "107b81ae",
   "metadata": {},
   "outputs": [
    {
     "name": "stdout",
     "output_type": "stream",
     "text": [
      "cuda:0\n"
     ]
    }
   ],
   "source": [
    "device=torch.device('cuda:0')\n",
    "print(device)"
   ]
  },
  {
   "cell_type": "code",
   "execution_count": 125,
   "id": "831bc657",
   "metadata": {},
   "outputs": [],
   "source": [
    "cuda0 = torch.device('cuda:0')"
   ]
  },
  {
   "cell_type": "code",
   "execution_count": 126,
   "id": "1e43cfc8",
   "metadata": {},
   "outputs": [
    {
     "name": "stdout",
     "output_type": "stream",
     "text": [
      "tensor([[1., 1., 1.],\n",
      "        [1., 1., 1.]], device='cuda:0')\n",
      "Device tensor is stored on: cuda:0\n"
     ]
    }
   ],
   "source": [
    "shape = (2,3,)\n",
    "t = torch.ones(shape, device=torch.device('cuda:0'))\n",
    "#t = torch.ones(shape, device=torch.device(cuda0))\n",
    "#t = torch.zeros(shape, device=torch.device(cuda0))\n",
    "print(t)\n",
    "print(f\"Device tensor is stored on: {t.device}\")"
   ]
  },
  {
   "cell_type": "code",
   "execution_count": 127,
   "id": "b9bdf16c",
   "metadata": {},
   "outputs": [
    {
     "name": "stdout",
     "output_type": "stream",
     "text": [
      "tensor([[0.3906, 0.5608, 0.7207],\n",
      "        [0.8679, 0.4039, 0.6949]], device='cuda:0')\n",
      "Device tensor is stored on: cuda:0\n"
     ]
    }
   ],
   "source": [
    "t = torch.rand(shape, device=torch.device(cuda0))\n",
    "print(t)\n",
    "print(f\"Device tensor is stored on: {t.device}\")"
   ]
  },
  {
   "cell_type": "markdown",
   "id": "0e6d41b0",
   "metadata": {},
   "source": [
    "# moving gpu to cpu"
   ]
  },
  {
   "cell_type": "code",
   "execution_count": 128,
   "id": "1d8545be",
   "metadata": {},
   "outputs": [
    {
     "name": "stdout",
     "output_type": "stream",
     "text": [
      "tensor([[1., 1.],\n",
      "        [1., 1.],\n",
      "        [1., 1.]], device='cuda:0')\n",
      "tensor([[1., 1.],\n",
      "        [1., 1.],\n",
      "        [1., 1.]], device='cuda:0')\n",
      "tensor([[4., 4.],\n",
      "        [4., 4.],\n",
      "        [4., 4.]], device='cuda:0')\n",
      "tensor([[4., 4.],\n",
      "        [4., 4.],\n",
      "        [4., 4.]], device='cuda:0')\n",
      "tensor([[4., 4.],\n",
      "        [4., 4.],\n",
      "        [4., 4.]])\n",
      "-------------\n",
      "tensor([[4., 4.],\n",
      "        [4., 4.],\n",
      "        [4., 4.]], device='cuda:0')\n",
      "tensor([[4., 4.],\n",
      "        [4., 4.],\n",
      "        [4., 4.]])\n"
     ]
    }
   ],
   "source": [
    "m1 = torch.ones(3, 2, device=cuda0)\n",
    "m2 = torch.ones(3, 2, device=cuda0)\n",
    "print(m1)\n",
    "print(m2)\n",
    "m0 = m1 + m2 \n",
    "m0 = m0 * m0\n",
    "print(m0)\n",
    "\n",
    "m00 = m0.cpu()\n",
    "print(m0)\n",
    "print(m00)\n",
    "print(\"-------------\")\n",
    "m0.cpu()\n",
    "print(m0)\n",
    "m0 = m0.cpu()\n",
    "print(m0)\n",
    "     \n"
   ]
  },
  {
   "cell_type": "code",
   "execution_count": null,
   "id": "50e3abf4",
   "metadata": {},
   "outputs": [],
   "source": []
  }
 ],
 "metadata": {
  "kernelspec": {
   "display_name": "Python 3 (ipykernel)",
   "language": "python",
   "name": "python3"
  },
  "language_info": {
   "codemirror_mode": {
    "name": "ipython",
    "version": 3
   },
   "file_extension": ".py",
   "mimetype": "text/x-python",
   "name": "python",
   "nbconvert_exporter": "python",
   "pygments_lexer": "ipython3",
   "version": "3.10.9"
  }
 },
 "nbformat": 4,
 "nbformat_minor": 5
}
